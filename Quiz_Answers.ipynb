{
  "nbformat": 4,
  "nbformat_minor": 0,
  "metadata": {
    "colab": {
      "provenance": []
    },
    "kernelspec": {
      "name": "python3",
      "display_name": "Python 3"
    },
    "language_info": {
      "name": "python"
    }
  },
  "cells": [
    {
      "cell_type": "code",
      "execution_count": 5,
      "metadata": {
        "colab": {
          "base_uri": "https://localhost:8080/"
        },
        "id": "f0OU5_iFS8zb",
        "outputId": "2e62f5a2-54c8-4a08-d2a0-2861e744a278"
      },
      "outputs": [
        {
          "output_type": "stream",
          "name": "stdout",
          "text": [
            "Area\n",
            "Guinea-Bissau    19102.77\n",
            "Name: Y2017, dtype: float64\n"
          ]
        }
      ],
      "source": [
        "#Solution 6\n",
        "import pandas as pd\n",
        "df = pd.read_csv('FoodBalanceSheets_E_Africa_NOFLAG.csv',encoding=\"latin-1\")\n",
        "df_2017_area = df[['Y2017', 'Area']]\n",
        "\n",
        "# Group by 'Area' and sum the 'Y2017' values\n",
        "df_2017_area_sum = df_2017_area.groupby('Area')['Y2017'].sum()\n",
        "df_2017_area_sum_sorted = df_2017_area_sum.sort_values()\n",
        "\n",
        "seventh_lowest_sum = df_2017_area_sum_sorted.iloc[6]\n",
        "\n",
        "area_with_seventh_lowest_sum = df_2017_area_sum_sorted[df_2017_area_sum_sorted == seventh_lowest_sum]\n",
        "\n",
        "print(area_with_seventh_lowest_sum)"
      ]
    },
    {
      "cell_type": "code",
      "source": [
        "#Solution 7\n",
        "missing_values_2014 = df['Y2014'].isna().sum()\n",
        "\n",
        "total_data_points = df.shape[0]\n",
        "percentage_missing_2014 = (missing_values_2014 / total_data_points) * 100\n",
        "percentage_missing_2014 = round(percentage_missing_2014, 3)\n",
        "\n",
        "print(\"Total number of missing data in 2014:\", missing_values_2014)\n",
        "print(\"Percentage of missing data in 2014:\", percentage_missing_2014, \"%\")\n"
      ],
      "metadata": {
        "colab": {
          "base_uri": "https://localhost:8080/"
        },
        "id": "0iX63HfuTHex",
        "outputId": "6e38ca2d-7a21-43de-f509-0cbfd402238d"
      },
      "execution_count": 6,
      "outputs": [
        {
          "output_type": "stream",
          "name": "stdout",
          "text": [
            "Total number of missing data in 2014: 1589\n",
            "Percentage of missing data in 2014: 2.607 %\n"
          ]
        }
      ]
    },
    {
      "cell_type": "code",
      "source": [
        "\n",
        "protein_supply_2015_madagascar = df.loc[(df['Area'] == 'Madagascar'), 'Y2015'].values[0]\n",
        "print(\"Total Protein supply quantity in Madagascar in 2015:\", protein_supply_2015_madagascar)"
      ],
      "metadata": {
        "colab": {
          "base_uri": "https://localhost:8080/"
        },
        "id": "mQSHzqnnVHwH",
        "outputId": "751a52f8-3a02-4513-ca6f-bb185487ea77"
      },
      "execution_count": 9,
      "outputs": [
        {
          "output_type": "stream",
          "name": "stdout",
          "text": [
            "Total Protein supply quantity in Madagascar in 2015: 24234.0\n"
          ]
        }
      ]
    },
    {
      "cell_type": "code",
      "source": [
        "#Solution 10\n",
        "element_grouped = df[df['Element'] == 'Processing'].groupby('Element')['Y2017'].sum()\n",
        "processing_sum_2017 = element_grouped.get('Processing', 0)\n",
        "print(\"Total sum of Processing in 2017:\", processing_sum_2017)"
      ],
      "metadata": {
        "colab": {
          "base_uri": "https://localhost:8080/"
        },
        "id": "a14i0igaVWiS",
        "outputId": "46f825f5-2739-4df9-8f53-d5465ba68512"
      },
      "execution_count": 10,
      "outputs": [
        {
          "output_type": "stream",
          "name": "stdout",
          "text": [
            "Total sum of Processing in 2017: 292836.0\n"
          ]
        }
      ]
    },
    {
      "cell_type": "code",
      "source": [
        "#Solution 11\n",
        "stock_variation_df = df[df['Element'] == 'Stock Variation']\n",
        "\n",
        "year_with_highest_stock_variation = stock_variation_df.iloc[:, 9:-2].sum().idxmax()\n",
        "print(\"Year with the highest sum of Stock Variation:\", year_with_highest_stock_variation)"
      ],
      "metadata": {
        "colab": {
          "base_uri": "https://localhost:8080/"
        },
        "id": "lGEwfk2DWSa3",
        "outputId": "91c1b05e-5d6e-4fa2-b151-5e6ab1aa9b07"
      },
      "execution_count": 14,
      "outputs": [
        {
          "output_type": "stream",
          "name": "stdout",
          "text": [
            "Year with the highest sum of Stock Variation: Y2016\n"
          ]
        }
      ]
    },
    {
      "cell_type": "code",
      "source": [
        "#Solution 12\n",
        "df_2017 = df.iloc[:, 9:-2]\n",
        "mean_2017 = df_2017.mean().mean()\n",
        "std_dev_2017 = df_2017.stack().std()\n",
        "\n",
        "\n",
        "mean_2017 = round(mean_2017, 2)\n",
        "std_dev_2017 = round(std_dev_2017, 2)\n",
        "\n",
        "\n",
        "print(\"Mean for the year 2017:\", mean_2017)\n",
        "print(\"Standard Deviation for the year 2017:\", std_dev_2017)"
      ],
      "metadata": {
        "colab": {
          "base_uri": "https://localhost:8080/"
        },
        "id": "EZXHGXB7WZoc",
        "outputId": "5a8539d3-01f2-4957-ec7f-c1d44c5a32c9"
      },
      "execution_count": 16,
      "outputs": [
        {
          "output_type": "stream",
          "name": "stdout",
          "text": [
            "Mean for the year 2017: 136.56\n",
            "Standard Deviation for the year 2017: 1640.01\n"
          ]
        }
      ]
    },
    {
      "cell_type": "code",
      "source": [
        "#Solution 14\n",
        "df_2017_area = df[['Y2017', 'Area']]\n",
        "df_2017_area_sum = df_2017_area.groupby('Area')['Y2017'].sum()\n",
        "\n",
        "area_with_highest_sum_2017 = df_2017_area_sum.idxmax()\n",
        "\n",
        "print(\"Area with the highest sum in 2017:\", area_with_highest_sum_2017)"
      ],
      "metadata": {
        "colab": {
          "base_uri": "https://localhost:8080/"
        },
        "id": "fUHAuYAUW_Jw",
        "outputId": "86e4cedc-a174-4358-bd3f-1ee04166ba15"
      },
      "execution_count": 17,
      "outputs": [
        {
          "output_type": "stream",
          "name": "stdout",
          "text": [
            "Area with the highest sum in 2017: Nigeria\n"
          ]
        }
      ]
    },
    {
      "cell_type": "code",
      "source": [
        "#Solution 17\n",
        "element_code = df['Element Code']\n",
        "years_columns = df.iloc[:, 9:-2]\n",
        "\n",
        "correlations = years_columns.corrwith(element_code)\n",
        "\n",
        "year_with_least_correlation = correlations.idxmin()\n",
        "print(\"Year with the least correlation with 'Element Code':\", year_with_least_correlation)"
      ],
      "metadata": {
        "colab": {
          "base_uri": "https://localhost:8080/"
        },
        "id": "0uuIImJsXTfl",
        "outputId": "d974158b-f7e6-41b8-8099-9ef8a27c046e"
      },
      "execution_count": 18,
      "outputs": [
        {
          "output_type": "stream",
          "name": "stdout",
          "text": [
            "Year with the least correlation with 'Element Code': Y2016\n"
          ]
        }
      ]
    },
    {
      "cell_type": "code",
      "source": [
        "#Solution 2\n",
        "wine_production_2015_2018 = df[(df['Item'] == 'Wine') & ((df['Year'] == 2015) | (df['Year'] == 2018))]\n",
        "\n",
        "wine_production_sum = wine_production_2015_2018.groupby('Year')['Value'].sum()\n",
        "print(\"Total sum of Wine produced in 2015:\", wine_production_sum.loc[2015])\n",
        "print(\"Total sum of Wine produced in 2018:\", wine_production_sum.loc[2018])"
      ],
      "metadata": {
        "colab": {
          "base_uri": "https://localhost:8080/",
          "height": 511
        },
        "id": "tK6DDJRTX_we",
        "outputId": "61539955-b02f-40aa-daf2-0d11b13d7ceb"
      },
      "execution_count": 19,
      "outputs": [
        {
          "output_type": "error",
          "ename": "KeyError",
          "evalue": "ignored",
          "traceback": [
            "\u001b[0;31m---------------------------------------------------------------------------\u001b[0m",
            "\u001b[0;31mKeyError\u001b[0m                                  Traceback (most recent call last)",
            "\u001b[0;32m/usr/local/lib/python3.10/dist-packages/pandas/core/indexes/base.py\u001b[0m in \u001b[0;36mget_loc\u001b[0;34m(self, key, method, tolerance)\u001b[0m\n\u001b[1;32m   3801\u001b[0m             \u001b[0;32mtry\u001b[0m\u001b[0;34m:\u001b[0m\u001b[0;34m\u001b[0m\u001b[0;34m\u001b[0m\u001b[0m\n\u001b[0;32m-> 3802\u001b[0;31m                 \u001b[0;32mreturn\u001b[0m \u001b[0mself\u001b[0m\u001b[0;34m.\u001b[0m\u001b[0m_engine\u001b[0m\u001b[0;34m.\u001b[0m\u001b[0mget_loc\u001b[0m\u001b[0;34m(\u001b[0m\u001b[0mcasted_key\u001b[0m\u001b[0;34m)\u001b[0m\u001b[0;34m\u001b[0m\u001b[0;34m\u001b[0m\u001b[0m\n\u001b[0m\u001b[1;32m   3803\u001b[0m             \u001b[0;32mexcept\u001b[0m \u001b[0mKeyError\u001b[0m \u001b[0;32mas\u001b[0m \u001b[0merr\u001b[0m\u001b[0;34m:\u001b[0m\u001b[0;34m\u001b[0m\u001b[0;34m\u001b[0m\u001b[0m\n",
            "\u001b[0;32m/usr/local/lib/python3.10/dist-packages/pandas/_libs/index.pyx\u001b[0m in \u001b[0;36mpandas._libs.index.IndexEngine.get_loc\u001b[0;34m()\u001b[0m\n",
            "\u001b[0;32m/usr/local/lib/python3.10/dist-packages/pandas/_libs/index.pyx\u001b[0m in \u001b[0;36mpandas._libs.index.IndexEngine.get_loc\u001b[0;34m()\u001b[0m\n",
            "\u001b[0;32mpandas/_libs/hashtable_class_helper.pxi\u001b[0m in \u001b[0;36mpandas._libs.hashtable.PyObjectHashTable.get_item\u001b[0;34m()\u001b[0m\n",
            "\u001b[0;32mpandas/_libs/hashtable_class_helper.pxi\u001b[0m in \u001b[0;36mpandas._libs.hashtable.PyObjectHashTable.get_item\u001b[0;34m()\u001b[0m\n",
            "\u001b[0;31mKeyError\u001b[0m: 'Year'",
            "\nThe above exception was the direct cause of the following exception:\n",
            "\u001b[0;31mKeyError\u001b[0m                                  Traceback (most recent call last)",
            "\u001b[0;32m<ipython-input-19-1dc3eb8149e9>\u001b[0m in \u001b[0;36m<cell line: 2>\u001b[0;34m()\u001b[0m\n\u001b[1;32m      1\u001b[0m \u001b[0;31m# Filter the DataFrame for Wine and for the years 2015 and 2018\u001b[0m\u001b[0;34m\u001b[0m\u001b[0;34m\u001b[0m\u001b[0m\n\u001b[0;32m----> 2\u001b[0;31m \u001b[0mwine_production_2015_2018\u001b[0m \u001b[0;34m=\u001b[0m \u001b[0mdf\u001b[0m\u001b[0;34m[\u001b[0m\u001b[0;34m(\u001b[0m\u001b[0mdf\u001b[0m\u001b[0;34m[\u001b[0m\u001b[0;34m'Item'\u001b[0m\u001b[0;34m]\u001b[0m \u001b[0;34m==\u001b[0m \u001b[0;34m'Wine'\u001b[0m\u001b[0;34m)\u001b[0m \u001b[0;34m&\u001b[0m \u001b[0;34m(\u001b[0m\u001b[0;34m(\u001b[0m\u001b[0mdf\u001b[0m\u001b[0;34m[\u001b[0m\u001b[0;34m'Year'\u001b[0m\u001b[0;34m]\u001b[0m \u001b[0;34m==\u001b[0m \u001b[0;36m2015\u001b[0m\u001b[0;34m)\u001b[0m \u001b[0;34m|\u001b[0m \u001b[0;34m(\u001b[0m\u001b[0mdf\u001b[0m\u001b[0;34m[\u001b[0m\u001b[0;34m'Year'\u001b[0m\u001b[0;34m]\u001b[0m \u001b[0;34m==\u001b[0m \u001b[0;36m2018\u001b[0m\u001b[0;34m)\u001b[0m\u001b[0;34m)\u001b[0m\u001b[0;34m]\u001b[0m\u001b[0;34m\u001b[0m\u001b[0;34m\u001b[0m\u001b[0m\n\u001b[0m\u001b[1;32m      3\u001b[0m \u001b[0;34m\u001b[0m\u001b[0m\n\u001b[1;32m      4\u001b[0m \u001b[0;31m# Perform groupby sum aggregation on 'Item'\u001b[0m\u001b[0;34m\u001b[0m\u001b[0;34m\u001b[0m\u001b[0m\n\u001b[1;32m      5\u001b[0m \u001b[0mwine_production_sum\u001b[0m \u001b[0;34m=\u001b[0m \u001b[0mwine_production_2015_2018\u001b[0m\u001b[0;34m.\u001b[0m\u001b[0mgroupby\u001b[0m\u001b[0;34m(\u001b[0m\u001b[0;34m'Year'\u001b[0m\u001b[0;34m)\u001b[0m\u001b[0;34m[\u001b[0m\u001b[0;34m'Value'\u001b[0m\u001b[0;34m]\u001b[0m\u001b[0;34m.\u001b[0m\u001b[0msum\u001b[0m\u001b[0;34m(\u001b[0m\u001b[0;34m)\u001b[0m\u001b[0;34m\u001b[0m\u001b[0;34m\u001b[0m\u001b[0m\n",
            "\u001b[0;32m/usr/local/lib/python3.10/dist-packages/pandas/core/frame.py\u001b[0m in \u001b[0;36m__getitem__\u001b[0;34m(self, key)\u001b[0m\n\u001b[1;32m   3805\u001b[0m             \u001b[0;32mif\u001b[0m \u001b[0mself\u001b[0m\u001b[0;34m.\u001b[0m\u001b[0mcolumns\u001b[0m\u001b[0;34m.\u001b[0m\u001b[0mnlevels\u001b[0m \u001b[0;34m>\u001b[0m \u001b[0;36m1\u001b[0m\u001b[0;34m:\u001b[0m\u001b[0;34m\u001b[0m\u001b[0;34m\u001b[0m\u001b[0m\n\u001b[1;32m   3806\u001b[0m                 \u001b[0;32mreturn\u001b[0m \u001b[0mself\u001b[0m\u001b[0;34m.\u001b[0m\u001b[0m_getitem_multilevel\u001b[0m\u001b[0;34m(\u001b[0m\u001b[0mkey\u001b[0m\u001b[0;34m)\u001b[0m\u001b[0;34m\u001b[0m\u001b[0;34m\u001b[0m\u001b[0m\n\u001b[0;32m-> 3807\u001b[0;31m             \u001b[0mindexer\u001b[0m \u001b[0;34m=\u001b[0m \u001b[0mself\u001b[0m\u001b[0;34m.\u001b[0m\u001b[0mcolumns\u001b[0m\u001b[0;34m.\u001b[0m\u001b[0mget_loc\u001b[0m\u001b[0;34m(\u001b[0m\u001b[0mkey\u001b[0m\u001b[0;34m)\u001b[0m\u001b[0;34m\u001b[0m\u001b[0;34m\u001b[0m\u001b[0m\n\u001b[0m\u001b[1;32m   3808\u001b[0m             \u001b[0;32mif\u001b[0m \u001b[0mis_integer\u001b[0m\u001b[0;34m(\u001b[0m\u001b[0mindexer\u001b[0m\u001b[0;34m)\u001b[0m\u001b[0;34m:\u001b[0m\u001b[0;34m\u001b[0m\u001b[0;34m\u001b[0m\u001b[0m\n\u001b[1;32m   3809\u001b[0m                 \u001b[0mindexer\u001b[0m \u001b[0;34m=\u001b[0m \u001b[0;34m[\u001b[0m\u001b[0mindexer\u001b[0m\u001b[0;34m]\u001b[0m\u001b[0;34m\u001b[0m\u001b[0;34m\u001b[0m\u001b[0m\n",
            "\u001b[0;32m/usr/local/lib/python3.10/dist-packages/pandas/core/indexes/base.py\u001b[0m in \u001b[0;36mget_loc\u001b[0;34m(self, key, method, tolerance)\u001b[0m\n\u001b[1;32m   3802\u001b[0m                 \u001b[0;32mreturn\u001b[0m \u001b[0mself\u001b[0m\u001b[0;34m.\u001b[0m\u001b[0m_engine\u001b[0m\u001b[0;34m.\u001b[0m\u001b[0mget_loc\u001b[0m\u001b[0;34m(\u001b[0m\u001b[0mcasted_key\u001b[0m\u001b[0;34m)\u001b[0m\u001b[0;34m\u001b[0m\u001b[0;34m\u001b[0m\u001b[0m\n\u001b[1;32m   3803\u001b[0m             \u001b[0;32mexcept\u001b[0m \u001b[0mKeyError\u001b[0m \u001b[0;32mas\u001b[0m \u001b[0merr\u001b[0m\u001b[0;34m:\u001b[0m\u001b[0;34m\u001b[0m\u001b[0;34m\u001b[0m\u001b[0m\n\u001b[0;32m-> 3804\u001b[0;31m                 \u001b[0;32mraise\u001b[0m \u001b[0mKeyError\u001b[0m\u001b[0;34m(\u001b[0m\u001b[0mkey\u001b[0m\u001b[0;34m)\u001b[0m \u001b[0;32mfrom\u001b[0m \u001b[0merr\u001b[0m\u001b[0;34m\u001b[0m\u001b[0;34m\u001b[0m\u001b[0m\n\u001b[0m\u001b[1;32m   3805\u001b[0m             \u001b[0;32mexcept\u001b[0m \u001b[0mTypeError\u001b[0m\u001b[0;34m:\u001b[0m\u001b[0;34m\u001b[0m\u001b[0;34m\u001b[0m\u001b[0m\n\u001b[1;32m   3806\u001b[0m                 \u001b[0;31m# If we have a listlike key, _check_indexing_error will raise\u001b[0m\u001b[0;34m\u001b[0m\u001b[0;34m\u001b[0m\u001b[0m\n",
            "\u001b[0;31mKeyError\u001b[0m: 'Year'"
          ]
        }
      ]
    },
    {
      "cell_type": "code",
      "source": [
        "#Solution 4\n",
        "total_unique_countries = df['Area'].nunique()\n",
        "print(\"Total number of unique countries in the dataset:\", total_unique_countries)"
      ],
      "metadata": {
        "colab": {
          "base_uri": "https://localhost:8080/"
        },
        "id": "Mnl5hGkIY9NZ",
        "outputId": "74f7553e-0507-42cb-b1a5-8042cbb5ceaa"
      },
      "execution_count": 20,
      "outputs": [
        {
          "output_type": "stream",
          "name": "stdout",
          "text": [
            "Total number of unique countries in the dataset: 49\n"
          ]
        }
      ]
    },
    {
      "cell_type": "code",
      "source": [
        "#Protein Supply quantity in Madagascar in 2015\n",
        "protein_supply_2015_madagascar = df[(df['Area'] == 'Madagascar') & (df['Y2015'] == 2015)].sum()\n",
        "print(\"Total Protein supply quantity in Madagascar in 2015:\", protein_supply_2015_madagascar)"
      ],
      "metadata": {
        "colab": {
          "base_uri": "https://localhost:8080/"
        },
        "id": "qqL2TurdZTo-",
        "outputId": "82c63bad-293b-440d-8d72-5be103a062e0"
      },
      "execution_count": 23,
      "outputs": [
        {
          "output_type": "stream",
          "name": "stdout",
          "text": [
            "Total Protein supply quantity in Madagascar in 2015: Area Code       0.0\n",
            "Area            0.0\n",
            "Item Code       0.0\n",
            "Item            0.0\n",
            "Element Code    0.0\n",
            "Element         0.0\n",
            "Unit            0.0\n",
            "Y2014           0.0\n",
            "Y2015           0.0\n",
            "Y2016           0.0\n",
            "Y2017           0.0\n",
            "Y2018           0.0\n",
            "dtype: float64\n"
          ]
        }
      ]
    },
    {
      "cell_type": "code",
      "source": [],
      "metadata": {
        "id": "8ZLKIbf5Z8Cy"
      },
      "execution_count": null,
      "outputs": []
    }
  ]
}